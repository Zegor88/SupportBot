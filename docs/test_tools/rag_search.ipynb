{
 "cells": [
  {
   "cell_type": "markdown",
   "metadata": {},
   "source": [
    "## Installation"
   ]
  },
  {
   "cell_type": "markdown",
   "metadata": {},
   "source": [
    "### LangSmith"
   ]
  },
  {
   "cell_type": "code",
   "execution_count": 1,
   "metadata": {},
   "outputs": [],
   "source": [
    "import getpass\n",
    "import os\n",
    "\n",
    "os.environ[\"LANGSMITH_TRACING\"] = os.getenv(\"LANGSMITH_TRACING\")\n",
    "os.environ[\"LANGSMITH_API_KEY\"] = os.getenv(\"LANGSMITH_API_KEY\")\n",
    "os.environ[\"OPENAI_API_KEY\"] = os.getenv(\"OPENAI_API_KEY\")"
   ]
  },
  {
   "cell_type": "code",
   "execution_count": 2,
   "metadata": {},
   "outputs": [
    {
     "data": {
      "text/plain": [
       "AIMessage(content='Hello! How can I assist you today?', additional_kwargs={'refusal': None}, response_metadata={'token_usage': {'completion_tokens': 9, 'prompt_tokens': 11, 'total_tokens': 20, 'completion_tokens_details': {'accepted_prediction_tokens': 0, 'audio_tokens': 0, 'reasoning_tokens': 0, 'rejected_prediction_tokens': 0}, 'prompt_tokens_details': {'audio_tokens': 0, 'cached_tokens': 0}}, 'model_name': 'gpt-3.5-turbo-0125', 'system_fingerprint': None, 'id': 'chatcmpl-BbMvIN40EXFFN8idH3sY0eFI9dNEM', 'service_tier': 'default', 'finish_reason': 'stop', 'logprobs': None}, id='run--b772bc27-d57f-493c-bb6e-4788a065a299-0', usage_metadata={'input_tokens': 11, 'output_tokens': 9, 'total_tokens': 20, 'input_token_details': {'audio': 0, 'cache_read': 0}, 'output_token_details': {'audio': 0, 'reasoning': 0}})"
      ]
     },
     "execution_count": 2,
     "metadata": {},
     "output_type": "execute_result"
    }
   ],
   "source": [
    "from langchain_openai import ChatOpenAI\n",
    "\n",
    "llm = ChatOpenAI()\n",
    "llm.invoke(\"Hello, world!\")"
   ]
  },
  {
   "cell_type": "markdown",
   "metadata": {},
   "source": [
    "### Components"
   ]
  },
  {
   "cell_type": "markdown",
   "metadata": {},
   "source": [
    "#### Chat model"
   ]
  },
  {
   "cell_type": "code",
   "execution_count": 3,
   "metadata": {},
   "outputs": [],
   "source": [
    "import getpass\n",
    "import os\n",
    "\n",
    "from langchain.chat_models import init_chat_model\n",
    "\n",
    "llm = init_chat_model(\"gpt-4o-mini\", model_provider=\"openai\")"
   ]
  },
  {
   "cell_type": "markdown",
   "metadata": {},
   "source": [
    "#### Embeding"
   ]
  },
  {
   "cell_type": "code",
   "execution_count": 4,
   "metadata": {},
   "outputs": [],
   "source": [
    "import getpass\n",
    "import os\n",
    "\n",
    "if not os.environ.get(\"OPENAI_API_KEY\"):\n",
    "  os.environ[\"OPENAI_API_KEY\"] = getpass.getpass(\"Enter API key for OpenAI: \")\n",
    "\n",
    "from langchain_openai import OpenAIEmbeddings\n",
    "\n",
    "embeddings = OpenAIEmbeddings(model=\"text-embedding-3-large\")"
   ]
  },
  {
   "cell_type": "markdown",
   "metadata": {},
   "source": [
    "#### Vector Store"
   ]
  },
  {
   "cell_type": "code",
   "execution_count": 5,
   "metadata": {},
   "outputs": [],
   "source": [
    "from langchain_core.vectorstores import InMemoryVectorStore\n",
    "\n",
    "vector_store = InMemoryVectorStore(embeddings)"
   ]
  },
  {
   "cell_type": "markdown",
   "metadata": {},
   "source": [
    "## Processing"
   ]
  },
  {
   "cell_type": "markdown",
   "metadata": {},
   "source": [
    "### 1. Indexing"
   ]
  },
  {
   "cell_type": "markdown",
   "metadata": {},
   "source": [
    "#### Loading documents"
   ]
  },
  {
   "cell_type": "code",
   "execution_count": 6,
   "metadata": {},
   "outputs": [],
   "source": [
    "from langchain_community.document_loaders.csv_loader import CSVLoader\n",
    "\n",
    "loader = CSVLoader(\n",
    "    #Integration specific parameters here\n",
    "    file_path=\"../data/answers_table.csv\",\n",
    "    csv_args={\n",
    "        \"delimiter\": \",\",\n",
    "        \"quotechar\": '\"',\n",
    "        \"fieldnames\": [\"Sender_Name\", \"Sender_ID\", \"Date\", \"Text\", \"Reply_To_Message_ID\", \"Question\"],\n",
    "    },\n",
    ")\n",
    "# data = loader.load()\n",
    "docs = loader.load()"
   ]
  },
  {
   "cell_type": "code",
   "execution_count": 7,
   "metadata": {},
   "outputs": [
    {
     "name": "stdout",
     "output_type": "stream",
     "text": [
      "Sender_Name: David Mulish | I'll never DM first\n",
      "Sender_ID: user1835306285\n",
      "Date: 2025-01-06 00:25:22\n",
      "Text: Hello! If you want to withdraw EVER from your EVER Wallet directly, you can deposit it on KuCoin/MEXC/Gate.io\n",
      "Reply_To_Message_ID: 24907\n",
      "Question: How can I withdraw my Ever\n"
     ]
    }
   ],
   "source": [
    "print(docs[1].page_content)"
   ]
  },
  {
   "cell_type": "markdown",
   "metadata": {},
   "source": [
    "#### Splitting documents"
   ]
  },
  {
   "cell_type": "code",
   "execution_count": 8,
   "metadata": {},
   "outputs": [
    {
     "name": "stdout",
     "output_type": "stream",
     "text": [
      "Split blog post into 453 sub-documents.\n"
     ]
    }
   ],
   "source": [
    "from langchain_text_splitters import RecursiveCharacterTextSplitter\n",
    "\n",
    "text_splitter = RecursiveCharacterTextSplitter(\n",
    "    chunk_size=1000,  # chunk size (characters)\n",
    "    chunk_overlap=100,  # chunk overlap (characters)\n",
    "    add_start_index=True,  # track index in original document\n",
    ")\n",
    "all_splits = text_splitter.split_documents(docs)\n",
    "\n",
    "print(f\"Split blog post into {len(all_splits)} sub-documents.\")"
   ]
  },
  {
   "cell_type": "code",
   "execution_count": 9,
   "metadata": {},
   "outputs": [
    {
     "name": "stdout",
     "output_type": "stream",
     "text": [
      "\n",
      "--- Проверка Document после Text Splitter ---\n",
      "ID: None\n",
      "Metadata: {'source': '../data/answers_table.csv', 'row': 5, 'start_index': 0}\n",
      "Page Content:\n",
      "Sender_Name: David Mulish | I'll never DM first\n",
      "Sender_ID: user1835306285\n",
      "Date: 2025-01-06 20:14:01\n",
      "Text: There are two ways: 1) you can withdraw EVER (ERC-20) to your Metamask, then use Octus Bridge to transfer EVER to Everscale network (to your EVER Wallet). But you will pay a heavy gas fee for it.  2) the simplest and cheapest way is: change your EVER to USDT, withdraw USDT to KuCoin/MEXC/Gate.io and buy EVER there. You can withdraw EVER from KuCoin/MEXC/Gate.io to EVER Wallet directly\n",
      "Reply_To_Message_ID: 24922\n",
      "Question: Good day🙏 Tell me please how can I get Ever to Ever wallet? I got Ever on Bybit\n",
      "------------------------------\n"
     ]
    }
   ],
   "source": [
    "print(\"\\n--- Проверка Document после Text Splitter ---\")\n",
    "# Пройдитесь по всем кускам, связанным с исходным problematic_doc\n",
    "for chunk_doc in all_splits:\n",
    "    if chunk_doc.metadata.get('row') == 5: # Опять же, используйте нужный row\n",
    "        print(f\"ID: {chunk_doc.id}\")\n",
    "        print(f\"Metadata: {chunk_doc.metadata}\")\n",
    "        print(f\"Page Content:\\n{chunk_doc.page_content}\")\n",
    "        print(\"-\" * 30)\n"
   ]
  },
  {
   "cell_type": "markdown",
   "metadata": {},
   "source": [
    "#### Storing documents"
   ]
  },
  {
   "cell_type": "code",
   "execution_count": 10,
   "metadata": {},
   "outputs": [
    {
     "name": "stdout",
     "output_type": "stream",
     "text": [
      "['d87f1b36-68da-42f1-99b0-236e6c504df7', '91910c1f-2df1-4677-a641-721b1fe174a4', 'd319350e-0fdb-4b87-87fc-8a18ed376557']\n"
     ]
    }
   ],
   "source": [
    "document_ids = vector_store.add_documents(documents=all_splits)\n",
    "\n",
    "print(document_ids[:3])"
   ]
  },
  {
   "cell_type": "markdown",
   "metadata": {},
   "source": [
    "### 2. Retrieval and Generation"
   ]
  },
  {
   "cell_type": "code",
   "execution_count": 11,
   "metadata": {},
   "outputs": [],
   "source": [
    "from langchain_core.prompts import PromptTemplate\n",
    "\n",
    "template = \"\"\"\n",
    "Act as a highly skilled and empathetic Technical Support Specialist for a Telegram channel. \n",
    "Your core responsibility is to analyze the user's question and the provided historical support context \n",
    "to formulate an answer that not only matches the style, tone, and manner of the existing support team but\n",
    "also delivers a solution analogous to how previous specialists have addressed similar issues. \n",
    "\n",
    "Crucially, observe if the historical answers sometimes advise users to contact an administrator directly instead of providing a full public solution. \n",
    "If such a pattern is present for similar questions, or if the question seems to require private assistance, \n",
    "instruct the user to contact one of the following administrators: \n",
    "David Mulish | I'll never DM first, John Coltrane (I'll Never DM First), Andrew, or Aleksandr | Everscale. \n",
    "In this case, do not attempt to answer the question directly. \n",
    "Otherwise, \n",
    "Focus on extracting the most relevant information from the Context to construct your response. \n",
    "If the Context does not provide a direct or inferable solution, clearly state that you don't know the answer, avoiding any fabrication.\n",
    "All questions must be in English language, otherwise ask user to rephrase the question in English like \"This chat is for English language communication.\"\n",
    "If you dont know the answer, kindly ask user to rephrase the question.\n",
    "\n",
    "Your answers should be concise, professional, and helpful.\n",
    "\n",
    "Here is the Context:\n",
    "###\n",
    "{context}\n",
    "###\n",
    "\n",
    "User's question: \n",
    "###\n",
    "{question}\n",
    "###\n",
    "\n",
    "Helpful Answer:\"\"\"\n",
    "custom_rag_prompt = PromptTemplate.from_template(template)"
   ]
  },
  {
   "cell_type": "markdown",
   "metadata": {},
   "source": [
    "#### Create the Graph"
   ]
  },
  {
   "cell_type": "code",
   "execution_count": 12,
   "metadata": {},
   "outputs": [],
   "source": [
    "from langchain_core.documents import Document\n",
    "from typing_extensions import List, TypedDict\n",
    "\n",
    "class State(TypedDict):\n",
    "    question: str\n",
    "    context: List[Document]\n",
    "    answer: str\n",
    "\n",
    "\n",
    "def retrieve(state: State):\n",
    "    retrieved_docs = vector_store.similarity_search(state[\"question\"])\n",
    "    return {\"context\": retrieved_docs}\n",
    "\n",
    "\n",
    "def generate(state: State):\n",
    "    docs_content = \"\\n\\n\".join(doc.page_content for doc in state[\"context\"])\n",
    "    messages = custom_rag_prompt.invoke({\"question\": state[\"question\"], \"context\": docs_content})\n",
    "    response = llm.invoke(messages)\n",
    "    return {\"answer\": response.content}"
   ]
  },
  {
   "cell_type": "code",
   "execution_count": 13,
   "metadata": {},
   "outputs": [
    {
     "data": {
      "image/png": "[encoded data removed]",
      "text/plain": [
       "<IPython.core.display.Image object>"
      ]
     },
     "metadata": {},
     "output_type": "display_data"
    }
   ],
   "source": [
    "from langgraph.graph import START, StateGraph\n",
    "\n",
    "graph_builder = StateGraph(State).add_sequence([retrieve, generate])\n",
    "graph_builder.add_edge(START, \"retrieve\")\n",
    "graph = graph_builder.compile()\n",
    "from IPython.display import Image, display\n",
    "\n",
    "display(Image(graph.get_graph().draw_mermaid_png()))"
   ]
  },
  {
   "cell_type": "markdown",
   "metadata": {},
   "source": [
    "## RAG TEST"
   ]
  },
  {
   "cell_type": "code",
   "execution_count": 14,
   "metadata": {},
   "outputs": [
    {
     "name": "stdout",
     "output_type": "stream",
     "text": [
      "Context: [Document(id='91910c1f-2df1-4677-a641-721b1fe174a4', metadata={'source': '../data/answers_table.csv', 'row': 1, 'start_index': 0}, page_content=\"Sender_Name: David Mulish | I'll never DM first\\nSender_ID: user1835306285\\nDate: 2025-01-06 00:25:22\\nText: Hello! If you want to withdraw EVER from your EVER Wallet directly, you can deposit it on KuCoin/MEXC/Gate.io\\nReply_To_Message_ID: 24907\\nQuestion: How can I withdraw my Ever\"), Document(id='d1bedf2f-6ec2-48e3-9a0c-357892d193db', metadata={'source': '../data/answers_table.csv', 'row': 8, 'start_index': 0}, page_content=\"Sender_Name: John Coltrane (I'll Never DM First)\\nSender_ID: user5204190482\\nDate: 2025-01-07 00:52:15\\nText: Hello! If you want to withdraw EVER directly from your EVER wallet, you can withdraw them to KuCoin/MEXC/Gate.io. If to other networks, then via app.OctusBridge.io\\nReply_To_Message_ID: 24937\\nQuestion: Hello how can I withdraw my ever coin?\"), Document(id='37755fe0-537a-49aa-81b9-3b3c6c64873f', metadata={'source': '../data/answers_table.csv', 'row': 5, 'start_index': 0}, page_content=\"Sender_Name: David Mulish | I'll never DM first\\nSender_ID: user1835306285\\nDate: 2025-01-06 20:14:01\\nText: There are two ways: 1) you can withdraw EVER (ERC-20) to your Metamask, then use Octus Bridge to transfer EVER to Everscale network (to your EVER Wallet). But you will pay a heavy gas fee for it.  2) the simplest and cheapest way is: change your EVER to USDT, withdraw USDT to KuCoin/MEXC/Gate.io and buy EVER there. You can withdraw EVER from KuCoin/MEXC/Gate.io to EVER Wallet directly\\nReply_To_Message_ID: 24922\\nQuestion: Good day🙏 Tell me please how can I get Ever to Ever wallet? I got Ever on Bybit\"), Document(id='f500209e-5cce-45ef-87ef-80221db37739', metadata={'source': '../data/answers_table.csv', 'row': 3, 'start_index': 0}, page_content=\"Sender_Name: David Mulish | I'll never DM first\\nSender_ID: user1835306285\\nDate: 2025-01-06 20:05:08\\nText: Hello! Have a good day too!\\nReply_To_Message_ID: 24922\\nQuestion: Good day🙏 Tell me please how can I get Ever to Ever wallet? I got Ever on Bybit\")]\n",
      "\n",
      "\n",
      "Answer: Hello! To withdraw your EVER directly from your EVER Wallet, you can deposit it on exchanges like KuCoin, MEXC, or Gate.io. If you need further assistance, please consider reaching out to one of the administrators: David Mulish | I'll never DM first, John Coltrane (I'll Never DM First), Andrew, or Aleksandr | Everscale.\n"
     ]
    }
   ],
   "source": [
    "result = graph.invoke({\"question\": \"How can I withdraw my Ever?\"})\n",
    "# result = graph.invoke({\"question\": \"Как заказать пиццу?\"})\n",
    "\n",
    "print(f'Context: {result[\"context\"]}\\n\\n')\n",
    "print(f'Answer: {result[\"answer\"]}')"
   ]
  },
  {
   "cell_type": "code",
   "execution_count": 15,
   "metadata": {},
   "outputs": [
    {
     "data": {
      "text/plain": [
       "[Document(id='91910c1f-2df1-4677-a641-721b1fe174a4', metadata={'source': '../data/answers_table.csv', 'row': 1, 'start_index': 0}, page_content=\"Sender_Name: David Mulish | I'll never DM first\\nSender_ID: user1835306285\\nDate: 2025-01-06 00:25:22\\nText: Hello! If you want to withdraw EVER from your EVER Wallet directly, you can deposit it on KuCoin/MEXC/Gate.io\\nReply_To_Message_ID: 24907\\nQuestion: How can I withdraw my Ever\"),\n",
       " Document(id='d1bedf2f-6ec2-48e3-9a0c-357892d193db', metadata={'source': '../data/answers_table.csv', 'row': 8, 'start_index': 0}, page_content=\"Sender_Name: John Coltrane (I'll Never DM First)\\nSender_ID: user5204190482\\nDate: 2025-01-07 00:52:15\\nText: Hello! If you want to withdraw EVER directly from your EVER wallet, you can withdraw them to KuCoin/MEXC/Gate.io. If to other networks, then via app.OctusBridge.io\\nReply_To_Message_ID: 24937\\nQuestion: Hello how can I withdraw my ever coin?\"),\n",
       " Document(id='37755fe0-537a-49aa-81b9-3b3c6c64873f', metadata={'source': '../data/answers_table.csv', 'row': 5, 'start_index': 0}, page_content=\"Sender_Name: David Mulish | I'll never DM first\\nSender_ID: user1835306285\\nDate: 2025-01-06 20:14:01\\nText: There are two ways: 1) you can withdraw EVER (ERC-20) to your Metamask, then use Octus Bridge to transfer EVER to Everscale network (to your EVER Wallet). But you will pay a heavy gas fee for it.  2) the simplest and cheapest way is: change your EVER to USDT, withdraw USDT to KuCoin/MEXC/Gate.io and buy EVER there. You can withdraw EVER from KuCoin/MEXC/Gate.io to EVER Wallet directly\\nReply_To_Message_ID: 24922\\nQuestion: Good day🙏 Tell me please how can I get Ever to Ever wallet? I got Ever on Bybit\"),\n",
       " Document(id='f500209e-5cce-45ef-87ef-80221db37739', metadata={'source': '../data/answers_table.csv', 'row': 3, 'start_index': 0}, page_content=\"Sender_Name: David Mulish | I'll never DM first\\nSender_ID: user1835306285\\nDate: 2025-01-06 20:05:08\\nText: Hello! Have a good day too!\\nReply_To_Message_ID: 24922\\nQuestion: Good day🙏 Tell me please how can I get Ever to Ever wallet? I got Ever on Bybit\")]"
      ]
     },
     "execution_count": 15,
     "metadata": {},
     "output_type": "execute_result"
    }
   ],
   "source": [
    "result[\"context\"]"
   ]
  },
  {
   "cell_type": "code",
   "execution_count": 16,
   "metadata": {},
   "outputs": [
    {
     "name": "stdout",
     "output_type": "stream",
     "text": [
      "Answer:\n",
      "Hello! To withdraw your EVER directly from your EVER Wallet, you can deposit it on exchanges like KuCoin, MEXC, or Gate.io. If you need further assistance, please consider reaching out to one of the administrators: David Mulish | I'll never DM first, John Coltrane (I'll Never DM First), Andrew, or Aleksandr | Everscale.\n",
      "\n",
      "Context:\n",
      "q: How can I withdraw my Ever\n",
      "a: Hello! If you want to withdraw EVER from your EVER Wallet directly, you can deposit it on KuCoin/MEXC/Gate.io\n",
      "\n",
      "q: Hello how can I withdraw my ever coin?\n",
      "a: Hello! If you want to withdraw EVER directly from your EVER wallet, you can withdraw them to KuCoin/MEXC/Gate.io. If to other networks, then via app.OctusBridge.io\n",
      "\n",
      "q: Good day🙏 Tell me please how can I get Ever to Ever wallet? I got Ever on Bybit\n",
      "a: There are two ways: 1) you can withdraw EVER (ERC-20) to your Metamask, then use Octus Bridge to transfer EVER to Everscale network (to your EVER Wallet). But you will pay a heavy gas fee for it.  2) the simplest and cheapest way is: change your EVER to USDT, withdraw USDT to KuCoin/MEXC/Gate.io and buy EVER there. You can withdraw EVER from KuCoin/MEXC/Gate.io to EVER Wallet directly\n",
      "\n",
      "q: Good day🙏 Tell me please how can I get Ever to Ever wallet? I got Ever on Bybit\n",
      "a: Hello! Have a good day too!\n",
      "\n"
     ]
    }
   ],
   "source": [
    "def print_context(result):\n",
    "    print(f'Answer:\\n{result[\"answer\"]}\\n')\n",
    "    print('Context:')\n",
    "    for doc in result[\"context\"]:\n",
    "        content = doc.page_content \n",
    "        \n",
    "        question = \"\"\n",
    "        answer_text = \"\"\n",
    "        \n",
    "        for line in content.split('\\n'):\n",
    "            if line.startswith('Question:'):\n",
    "                question = line.replace('Question:', '').strip()\n",
    "            # Предполагаем, что ответ всегда в поле 'Text:'\n",
    "            elif line.startswith('Text:'):\n",
    "                answer_text = line.replace('Text:', '').strip()\n",
    "        \n",
    "        print(f'q: {question}')\n",
    "        print(f'a: {answer_text}\\n')\n",
    "\n",
    "print_context(result)"
   ]
  },
  {
   "cell_type": "code",
   "execution_count": 17,
   "metadata": {},
   "outputs": [
    {
     "name": "stdout",
     "output_type": "stream",
     "text": [
      "Answer:\n",
      "To get rewards in Hamster Boost, you can check for a message on the green background at the top of the mini app, which informs you about any rewards you've received. If you need further assistance or specific instructions, please refer to this link: [Hamster Boost Rewards Instructions](https://t.me/broxus_chat/26814). If you have more questions or need help beyond this, please feel free to contact one of the administrators: David Mulish, John Coltrane, Andrew, or Aleksandr.\n",
      "\n",
      "Context:\n",
      "q: How to get a reward?\n",
      "a: If you have received a reward in Hamster Boost, there is a message about it on the green background at the top of the mini app.\n",
      "\n",
      "q: I get the reward in hamster deve but how it received in my sparx wallet\n",
      "a: https://t.me/broxus_chat/26814\n",
      "\n",
      "q: I need  how  to get my reward\n",
      "a: Hi. If you have received a reward in Hamster Boost, there is a message about it on the green background at the top of the mini app.\n",
      "\n",
      "q: Please help how to get\n",
      "a: Hey! If you have received a reward in Hamster Boost, follow these instructions: https://t.me/broxus_chat/26814\n",
      "\n"
     ]
    }
   ],
   "source": [
    "result = graph.invoke({\"question\": \"How can I get the rewards in hamster\"})\n",
    "print_context(result)"
   ]
  },
  {
   "cell_type": "code",
   "execution_count": 18,
   "metadata": {},
   "outputs": [
    {
     "name": "stdout",
     "output_type": "stream",
     "text": [
      "Answer:\n",
      "This chat is for English language communication. Please rephrase your question in English so I can assist you further. Thank you!\n",
      "\n",
      "Context:\n",
      "q: Не получается?\n",
      "a: This chat is for English language communication. Send me a DM with the details of your problem.\n",
      "\n",
      "q: Где тут по русски???????\n",
      "a: Here: https://t.me/OctusBridge_ru\n",
      "\n",
      "q: How possible\n",
      "a: Hello! Please describe in detail what do you wish?\n",
      "\n",
      "q: Здравствуйте\n",
      "a: Hello. This chat is for English-language communication only. Write me in DM with your wallet address and details of the problem. Be careful, admins never write first.\n",
      "\n"
     ]
    }
   ],
   "source": [
    "result = graph.invoke({\"question\": \"Как заказать пиццу?\"})\n",
    "print_context(result)"
   ]
  },
  {
   "cell_type": "code",
   "execution_count": 19,
   "metadata": {},
   "outputs": [
    {
     "name": "stdout",
     "output_type": "stream",
     "text": [
      "Answer:\n",
      "It seems your transaction might not have gone through as expected. In this case, it's advisable to reach out directly to one of the administrators for assistance. You can contact David Mulish, John Coltrane, Andrew, or Aleksandr for further support regarding your assets and the transaction status.\n",
      "\n",
      "Context:\n",
      "q: What did you mean ?  I was trying to buy ever by using EVM wallet.  Can you please explain about what you have just said?\n",
      "a: You can transfer USDT/USDC/wETH/wBTC via app.octusbridge.io to Everscale . Then buy on https://app.flatqube.io/tokens/0:a49cd4e158a9a15555e624759e2e4e766d22600b7800d891e46f9291f044a93d\n",
      "\n",
      "q: While trying to unstake BRIDGE tokens from an Octus Bridge relay. Is it safe to proceed?\n",
      "a: You should copy an address from the warning message.  1. Top up the address with 0.2 ever and try again.  2. If there is the warning again, you need to unfreeze the address via https://ever.bytie.moe/microwave\n",
      "\n",
      "q: Hello  I buy ever about 12000 usdt in my atomic wallet\n",
      "a: Hi! To transfer USDT from another network to the Everscale network, you need to transfer USDT to Metamask first, then connect Metamask and EverWallet or SparX to the OctusBridge.io bridge, and then transfer to the Everscale network.\n",
      "\n",
      "q: Ok,   But why is my wallet not showing my asset despite haven requested and gotten the Test Token and all my asset are turn on as you can see in the screenshot.\n",
      "a: Unfortunately EVER Wallet will not work with Tycho in the near future. Please use SparX: https://sparxwallet.com/download\n",
      "\n"
     ]
    }
   ],
   "source": [
    "result = graph.invoke({\"question\": \"Please i used octusbridge but my assets were not transferred, i saw burn at the ever scan?\"})\n",
    "print_context(result)"
   ]
  },
  {
   "cell_type": "code",
   "execution_count": 20,
   "metadata": {},
   "outputs": [
    {
     "name": "stdout",
     "output_type": "stream",
     "text": [
      "Answer:\n",
      "Hello! Yes, Everscale was previously known as FreeTON and has undergone rebranding. The exchange may still display the old name, but it's essentially the same blockchain project. If you have any further inquiries regarding your specific withdrawals or account issues, please reach out to one of the administrators: David Mulish, John Coltrane, Andrew, or Aleksandr. They'll be able to assist you more directly.\n",
      "\n",
      "Context:\n",
      "q: EverScale is Freeton?\n",
      "a: That's right. Everscale used to be called FreeTON. It was rebranded in 2021: https://www.prnewswire.com/news-releases/free-ton-announces-ecosystem-rebrand-to-everscale-strengthening-its-scalability-mission-301421459.html\n",
      "\n",
      "q: Hello how can I withdraw my ever coin?\n",
      "a: Hello! If you want to withdraw EVER directly from your EVER wallet, you can withdraw them to KuCoin/MEXC/Gate.io. If to other networks, then via app.OctusBridge.io\n",
      "\n",
      "q: Good day🙏 Tell me please how can I get Ever to Ever wallet? I got Ever on Bybit\n",
      "a: There are two ways: 1) you can withdraw EVER (ERC-20) to your Metamask, then use Octus Bridge to transfer EVER to Everscale network (to your EVER Wallet). But you will pay a heavy gas fee for it.  2) the simplest and cheapest way is: change your EVER to USDT, withdraw USDT to KuCoin/MEXC/Gate.io and buy EVER there. You can withdraw EVER from KuCoin/MEXC/Gate.io to EVER Wallet directly\n",
      "\n",
      "q: How can I withdraw my Ever\n",
      "a: Hello! If you want to withdraw EVER from your EVER Wallet directly, you can deposit it on KuCoin/MEXC/Gate.io\n",
      "\n"
     ]
    }
   ],
   "source": [
    "result = graph.invoke({\"question\": \"But in the Mexc exchange now when I want to withdraw ever, I saw the freeton everscale,it is the everscale,it is just that they do not change the name? to just everscale?\"})\n",
    "print_context(result)"
   ]
  },
  {
   "cell_type": "code",
   "execution_count": 21,
   "metadata": {},
   "outputs": [
    {
     "name": "stdout",
     "output_type": "stream",
     "text": [
      "Answer:\n",
      "This chat is for English language communication. Please rephrase your question in English.\n",
      "\n",
      "Context:\n",
      "q: Good day🙏 Tell me please how can I get Ever to Ever wallet? I got Ever on Bybit\n",
      "a: There are two ways: 1) you can withdraw EVER (ERC-20) to your Metamask, then use Octus Bridge to transfer EVER to Everscale network (to your EVER Wallet). But you will pay a heavy gas fee for it.  2) the simplest and cheapest way is: change your EVER to USDT, withdraw USDT to KuCoin/MEXC/Gate.io and buy EVER there. You can withdraw EVER from KuCoin/MEXC/Gate.io to EVER Wallet directly\n",
      "\n",
      "q: How can I withdraw my Ever\n",
      "a: Hello! If you want to withdraw EVER from your EVER Wallet directly, you can deposit it on KuCoin/MEXC/Gate.io\n",
      "\n",
      "q: Hello how can I withdraw my ever coin?\n",
      "a: Hello! If you want to withdraw EVER directly from your EVER wallet, you can withdraw them to KuCoin/MEXC/Gate.io. If to other networks, then via app.OctusBridge.io\n",
      "\n",
      "q: Good day🙏 Tell me please how can I get Ever to Ever wallet? I got Ever on Bybit\n",
      "a: Hello! Have a good day too!\n",
      "\n"
     ]
    }
   ],
   "source": [
    "result = graph.invoke({\"question\": \"Как я могу вывести свои Ever с биржи Bybit?\"})\n",
    "print_context(result)"
   ]
  },
  {
   "cell_type": "code",
   "execution_count": null,
   "metadata": {},
   "outputs": [],
   "source": []
  },
  {
   "cell_type": "code",
   "execution_count": null,
   "metadata": {},
   "outputs": [],
   "source": []
  },
  {
   "cell_type": "code",
   "execution_count": null,
   "metadata": {},
   "outputs": [],
   "source": []
  },
  {
   "cell_type": "code",
   "execution_count": null,
   "metadata": {},
   "outputs": [],
   "source": []
  },
  {
   "cell_type": "code",
   "execution_count": null,
   "metadata": {},
   "outputs": [],
   "source": []
  }
 ],
 "metadata": {
  "kernelspec": {
   "display_name": ".venv",
   "language": "python",
   "name": "python3"
  },
  "language_info": {
   "codemirror_mode": {
    "name": "ipython",
    "version": 3
   },
   "file_extension": ".py",
   "mimetype": "text/x-python",
   "name": "python",
   "nbconvert_exporter": "python",
   "pygments_lexer": "ipython3",
   "version": "3.12.9"
  }
 },
 "nbformat": 4,
 "nbformat_minor": 2
}
